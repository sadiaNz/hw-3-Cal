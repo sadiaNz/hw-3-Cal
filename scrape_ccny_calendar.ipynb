{
 "cells": [
  {
   "cell_type": "code",
   "execution_count": 1,
   "metadata": {},
   "outputs": [
    {
     "name": "stderr",
     "output_type": "stream",
     "text": [
      "/Users/saadianz/Desktop/cny_calendar_scraper/venv/lib/python3.9/site-packages/urllib3/__init__.py:35: NotOpenSSLWarning: urllib3 v2 only supports OpenSSL 1.1.1+, currently the 'ssl' module is compiled with 'LibreSSL 2.8.3'. See: https://github.com/urllib3/urllib3/issues/3020\n",
      "  warnings.warn(\n"
     ]
    }
   ],
   "source": [
    "import requests\n",
    "from bs4 import BeautifulSoup\n",
    "import pandas as pd\n"
   ]
  },
  {
   "cell_type": "code",
   "execution_count": 3,
   "metadata": {},
   "outputs": [
    {
     "name": "stdout",
     "output_type": "stream",
     "text": [
      "Page fetched successfully!\n"
     ]
    }
   ],
   "source": [
    "import requests\n",
    "from bs4 import BeautifulSoup\n",
    "import pandas as pd\n",
    "\n",
    "# URL of CCNY Academic Calendar\n",
    "url = \"https://www.ccny.cuny.edu/registrar/academic-calendar\"\n",
    "\n",
    "# Fetch the page\n",
    "response = requests.get(url)\n",
    "\n",
    "# Check if request was successful\n",
    "if response.status_code == 200:\n",
    "    print(\"Page fetched successfully!\")\n",
    "    soup = BeautifulSoup(response.text, \"html.parser\")  # Parse the HTML\n",
    "else:\n",
    "    print(\"Failed to retrieve the page:\", response.status_code)\n"
   ]
  },
  {
   "cell_type": "code",
   "execution_count": 7,
   "metadata": {},
   "outputs": [
    {
     "name": "stdout",
     "output_type": "stream",
     "text": [
      "✅ Page fetched successfully!\n",
      "❌ No table found in the calendar section.\n"
     ]
    }
   ],
   "source": [
    "import requests\n",
    "from bs4 import BeautifulSoup\n",
    "import pandas as pd\n",
    "\n",
    "# Step 1: Fetch the CCNY Academic Calendar Webpage\n",
    "url = \"https://www.ccny.cuny.edu/registrar/academic-calendar\"\n",
    "response = requests.get(url)\n",
    "\n",
    "# Step 2: Check if the page was successfully fetched\n",
    "if response.status_code == 200:\n",
    "    print(\"✅ Page fetched successfully!\")\n",
    "    soup = BeautifulSoup(response.text, \"html.parser\")\n",
    "else:\n",
    "    print(f\"❌ Failed to fetch the page. Status code: {response.status_code}\")\n",
    "    exit()  # Stop execution if the page was not fetched\n",
    "\n",
    "# Step 3: Find the Calendar Table inside the 'body-paragraph' class\n",
    "calendar_div = soup.find(\"div\", class_=\"body-paragraph\")\n",
    "\n",
    "if calendar_div:\n",
    "    calendar_table = calendar_div.find(\"table\")  # Find table inside the div\n",
    "else:\n",
    "    print(\"❌ No calendar section found on the page.\")\n",
    "    exit()\n",
    "\n",
    "# Step 4: Extract Table Data\n",
    "if calendar_table:\n",
    "    rows = calendar_table.find_all(\"tr\")  # Get all rows\n",
    "    data = []\n",
    "\n",
    "    for row in rows[1:]:  # Skip the header row\n",
    "        cols = row.find_all(\"td\")\n",
    "        if len(cols) >= 2:\n",
    "            date_text = cols[0].text.strip()  # First column = date\n",
    "            description = cols[1].text.strip()  # Second column = event description\n",
    "            data.append([date_text, description])\n",
    "\n",
    "    # Step 5: Create a DataFrame\n",
    "    df = pd.DataFrame(data, columns=[\"Date\", \"Text\"])\n",
    "    \n",
    "    # Convert date column to datetime format\n",
    "    df[\"Date\"] = pd.to_datetime(df[\"Date\"], errors=\"coerce\")\n",
    "\n",
    "    # Add a \"Day of the Week\" column\n",
    "    df[\"dow\"] = df[\"Date\"].dt.day_name()\n",
    "\n",
    "    # Set Date as Index\n",
    "    df.set_index(\"Date\", inplace=True)\n",
    "\n",
    "    # Show first few rows\n",
    "    display(df.head())\n",
    "\n",
    "    # Step 6: Save Data to CSV\n",
    "    df.to_csv(\"ccny_calendar.csv\")\n",
    "    print(\"✅ Data saved to ccny_calendar.csv\")\n",
    "    \n",
    "else:\n",
    "    print(\"❌ No table found in the calendar section.\")\n"
   ]
  },
  {
   "cell_type": "code",
   "execution_count": 8,
   "metadata": {},
   "outputs": [
    {
     "name": "stdout",
     "output_type": "stream",
     "text": [
      "✅ Found 0 tables on the page.\n"
     ]
    }
   ],
   "source": [
    "tables = soup.find_all(\"table\")\n",
    "print(f\"✅ Found {len(tables)} tables on the page.\")\n",
    "\n",
    "# Print first few lines of each table\n",
    "for i, table in enumerate(tables):\n",
    "    print(f\"\\n🔹 Table {i+1}:\\n\")\n",
    "    print(table.prettify()[:500])  # Show first 500 characters to inspect structure\n"
   ]
  },
  {
   "cell_type": "markdown",
   "metadata": {},
   "source": [
    "from selenium import webdriver\n",
    "from selenium.webdriver.chrome.service import Service\n",
    "from webdriver_manager.chrome import ChromeDriverManager\n",
    "from bs4 import BeautifulSoup\n",
    "import pandas as pd\n",
    "\n",
    "# Step 1: Set Up Selenium WebDriver\n",
    "options = webdriver.ChromeOptions()\n",
    "options.add_argument(\"--headless\")  # Run in background (no GUI)\n",
    "options.add_argument(\"--no-sandbox\")\n",
    "options.add_argument(\"--disable-dev-shm-usage\")\n",
    "\n",
    "# Automatically download and set up ChromeDriver\n",
    "service = Service(ChromeDriverManager().install())\n",
    "driver = webdriver.Chrome(service=service, options=options)\n",
    "\n",
    "# Step 2: Load the CCNY Academic Calendar Page\n",
    "url = \"https://www.ccny.cuny.edu/registrar/academic-calendar\"\n",
    "driver.get(url)\n",
    "\n",
    "# Wait for JavaScript to load\n",
    "driver.implicitly_wait(5)\n",
    "\n",
    "# Step 3: Extract Page Source with JavaScript Content\n",
    "soup = BeautifulSoup(driver.page_source, \"html.parser\")\n",
    "\n",
    "# Step 4: Close the WebDriver\n",
    "driver.quit()\n",
    "\n",
    "# Step 5: Find and Extract the Calendar Data\n",
    "calendar_div = soup.find(\"div\", class_=\"body-paragraph\")  # Adjust if needed\n",
    "\n",
    "if calendar_div:\n",
    "    calendar_table = calendar_div.find(\"table\")\n",
    "else:\n",
    "    print(\"❌ No calendar section found on the page.\")\n",
    "    exit()\n",
    "\n",
    "if calendar_table:\n",
    "    rows = calendar_table.find_all(\"tr\")\n",
    "    data = []\n",
    "\n",
    "    for row in rows[1:]:  # Skip header row\n",
    "        cols = row.find_all(\"td\")\n",
    "        if len(cols) >= 2:\n",
    "            date_text = cols[0].text.strip()  # First column = Date\n",
    "            description = cols[1].text.strip()  # Second column = Event\n",
    "            data.append([date_text, description])\n",
    "\n",
    "    # Step 6: Create a DataFrame\n",
    "    df = pd.DataFrame(data, columns=[\"Date\", \"Text\"])\n",
    "\n",
    "    # Convert Date to datetime format\n",
    "    df[\"Date\"] = pd.to_datetime(df[\"Date\"], errors=\"coerce\")\n",
    "\n",
    "    # Add \"Day of the Week\" column\n",
    "    df[\"dow\"] = df[\"Date\"].dt.day_name()\n",
    "\n",
    "    # Set Date as Index\n",
    "    df.set_index(\"Date\", inplace=True)\n",
    "\n",
    "    # Show first few rows\n",
    "    display(df.head())\n",
    "\n",
    "    # Step 7: Save Data to CSV\n",
    "    df.to_csv(\"ccny_calendar.csv\")\n",
    "    print(\"✅ Data saved to ccny_calendar.csv\")\n",
    "    \n",
    "else:\n",
    "    print(\"❌ No table found in the calendar section.\")\n"
   ]
  }
 ],
 "metadata": {
  "kernelspec": {
   "display_name": "Python (venv)",
   "language": "python",
   "name": "venv"
  },
  "language_info": {
   "codemirror_mode": {
    "name": "ipython",
    "version": 3
   },
   "file_extension": ".py",
   "mimetype": "text/x-python",
   "name": "python",
   "nbconvert_exporter": "python",
   "pygments_lexer": "ipython3",
   "version": "3.9.6"
  }
 },
 "nbformat": 4,
 "nbformat_minor": 2
}
